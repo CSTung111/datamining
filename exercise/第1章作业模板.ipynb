{
 "cells": [
  {
   "cell_type": "markdown",
   "metadata": {},
   "source": [
    "## 《Python数据挖掘方法及应用》PyDm\n",
    "### 【第1章 数据收集与分析软件】数据与练习1 \n",
    "#### **（请在#下面问题的空白处写出代码并输出结果）**"
   ]
  },
  {
   "cell_type": "markdown",
   "metadata": {},
   "source": [
    "---"
   ]
  },
  {
   "cell_type": "markdown",
   "metadata": {},
   "source": [
    "1.1  下面有三组数据：\n",
    "\n",
    "    1, 2, 3, 4, 5 \n",
    "    a, b, c, d\n",
    "    physics, chemistry, 1997, 2000"
   ]
  },
  {
   "cell_type": "code",
   "execution_count": 1,
   "metadata": {},
   "outputs": [],
   "source": [
    "# (1)将其写入列表\n"
   ]
  },num = [1, 2, 3, 4, 5]
    eng = ['a', 'b', 'c', 'd']
    abc = ['physics', 'chemistry', '1997', '2000']
  {
   "cell_type": "markdown",
   "metadata": {},
   "source": [
    "# (2)将其写入字典\n"
   ]
  },num = {1, 2, 3, 4, 5}
    eng = {'a', 'b', 'c', 'd'}
    abc = {'physics', 'chemistry', '1997', '2000'}
  {
   "cell_type": "markdown",
   "metadata": {},
   "source": [
    "1.2  请创建下列Python数组，并计算。"
   ]
  },
  {
   "cell_type": "code",
   "execution_count": null,
   "metadata": {},
   "outputs": [],
   "source": [
    "#(1)创建一个2*2的数组，计算对角线上元素的和。\n"
   ]
  },import numpy as np
arr = np.random.randint(0,10,size=(2,2))
a = arr[0,0]
b = arr[1,1]
m = a+b
print(arr)
print(m)
   "cell_type": "code",
   "execution_count": null,
   "metadata": {},
   "outputs": [],
   "source": [
    "#(2)创建一个长度为9的一维数据，数组元素为0～8，并将它重新变为3*3的二维数组。\n"
   ]
  },import numpy as np
arr = np.arange(9).reshape(3,3)
print(arr)
  {
   "cell_type": "code",
   "execution_count": null,
   "metadata": {},
   "outputs": [],
   "source": [
    "#(3)创建两个3*3的数组，分别将它们合并为3*6、6*3的数组后，拆分为3个数组。\n"
   ]
  },import numpy as np
arr1 = np.random.randint(0,10,size=(3,3))
arr2 = np.random.randint(0,10,size=(3,3))
arr3 = np.hstack((arr1,arr2))
arr4 = np.vstack((arr1,arr2))
arr5,arr6,arr7 = np.split(arr3,3,axis=0)
print(arr3)
print(arr4)
print(arr5)
print(arr6)
print(arr7)
  {
   "cell_type": "markdown",
   "metadata": {},
   "source": [
    "1.3  文本数据。下面有一些文本数据：\n",
    "\n",
    "     name,physics,Python,math,english\n",
    "     Google,100,100,25,12\n",
    "     Facebook,45,54,44,88\n",
    "     Twitter,54,76,13,91\n",
    "     Yahoo,54,452,26,100 "
   ]
  },
  {
   "cell_type": "code",
   "execution_count": null,
   "metadata": {},
   "outputs": [],
   "source": [
    "#(1)请将其写入列表。\n"
   ]
  },list = [['Google',100,100,25,12],['Facebook',45,54,44,88],['Twitter',54,76,13,91],['Yahoo',54,452,26,100]]
print(list)
  {
   "cell_type": "code",
   "execution_count": null,
   "metadata": {},
   "outputs": [],
   "source": [
    "#(2)请将其写入字典。\n"
   ]
  },dict = {'physics':{'Google':100,'Facebook':45,'Twitter':54,'Yahoo':54},
       'Python':{'Google':100,'Facebook':54,'Twitter':76,'Yahoo':452},
       'math':{'Google':25,'Facebook':44,'Twitter':13,'Yahoo':26},
       'english':{'Google':12,'Facebook':88,'Twitter':91,'Yahoo':100}}
  {
   "cell_type": "code",
   "execution_count": null,
   "metadata": {},
   "outputs": [],
   "source": [
    "#(3)请将其写入数据框。\n"
   ]
  },from pandas import DataFrame
dict = {'physics':{'Google':100,'Facebook':45,'Twitter':54,'Yahoo':54},
       'Python':{'Google':100,'Facebook':54,'Twitter':76,'Yahoo':452},
       'math':{'Google':25,'Facebook':44,'Twitter':13,'Yahoo':26},
       'english':{'Google':12,'Facebook':88,'Twitter':91,'Yahoo':100}}
dataframe = DataFrame(dict)
print(dataframe)
  {
   "cell_type": "code",
   "execution_count": null,
   "metadata": {},
   "outputs": [],
   "source": [
    "#(4)请将其保存到csv格式的文档，并从read_csv()函数读入Python。\n"
   ]
  },import pandas
dict = {'physics':{'Google':100,'Facebook':45,'Twitter':54,'Yahoo':54},
       'Python':{'Google':100,'Facebook':54,'Twitter':76,'Yahoo':452},
       'math':{'Google':25,'Facebook':44,'Twitter':13,'Yahoo':26},
       'english':{'Google':12,'Facebook':88,'Twitter':91,'Yahoo':100}}
dataframe = pandas.DataFrame(dict)
dataframe.to_csv("grades.csv",index=True,sep=",")
data = pandas.read_csv("grades.csv")
  {
   "cell_type": "markdown",
   "metadata": {},
   "source": [
    "1.4  调查数据。某公司对财务部门人员的抽烟状况进行调查，结果为：\n",
    "\n",
    "    否，否，否，是，是，否，否，是，否，是，否，否，是，是，否，是，否，否，是，是。"
   ]
  },
  {
   "cell_type": "code",
   "execution_count": null,
   "metadata": {},
   "outputs": [],
   "source": [
    "#(1)请用列表录入该数据。\n"
   ]
  },list = ['否','否','否','是','是','否','否','是','否','是','否','否','是','是','否','是','否','否','是','是']
  {
   "cell_type": "code",
   "execution_count": null,
   "metadata": {},
   "outputs": [],
   "source": [
    "#(2)请将这组数据输入电子表格，并将其读入Python。\n"
   ]
  },import pandas as pd
dict1 = {'抽烟情况':{1:'否',2:'否',3:'否',4:'是',5:'是',6:'否',7:'否',8:'是',9:'否',10:'是',11:'否',12:'否',13:'是',14:'是',15:'否',16:'是',17:'否',18:'否',19:'是',20:'是'}}
df = pandas.DataFrame(dict1)
df.to_excel("smoking-condition.xls",index=True)
data = pandas.read_excel("smoking-condition.xls")
  {
   "cell_type": "markdown",
   "metadata": {},
   "source": [
    "1.5  学生成绩。从某大学统计系的学生中随机抽取24人，对数学和统计学的考试成绩进行调查，数据如表1-7所列。"
   ]
  },
  {
   "cell_type": "code",
   "execution_count": null,
   "metadata": {},
   "outputs": [],
   "source": [
    "#(1)试将这组数据输入电子表格。\n"
   ]
  },array = [["编号","性别","数学","统计学"],
        ["1","M","81","72"],
        ["2","F","90","90"],
        ["3","F","91","96"],
        ["4","M","74","68"],
        ["5","F","70","82"],
        ["6","F","73","78"],
        ["7","M","88","89"],
        ["8","M","78","82"],
        ["9","M","95","96"],
        ["10","F","63","75"],
        ["11","F","85","86"],
        ["12","M","60","71"],
        ["13","F","83","78"],
        ["14","F","81","94"],
        ["15","M","77","73"],
        ["16","M","60","66"],
        ["17","F","66","58"],
        ["18","M","84","87"],
        ["19","F","80","86"],
        ["20","F","85","84"],
        ["21","M","70","82"],
        ["22","M","54","56"],
        ["23","F","93","98"],
        ["24","M","68","76"],]
import openpyxl
 
 
def write_excel_xlsx(path, sheet_name, value):
    index = len(value)
    workbook = openpyxl.Workbook()
    sheet = workbook.active
    sheet.title = sheet_name
    for i in range(0, index):
        for j in range(0, len(value[i])):
            sheet.cell(row=i+1, column=j+1, value=str(value[i][j]))
    workbook.save(path)
    print("xlsx格式表格写入数据成功！")

write_excel_xlsx("部分学生的数学和统计学考试成绩.xlsx", "部分学生的数学和统计学考试成绩", array)
  {
   "cell_type": "code",
   "execution_count": null,
   "metadata": {},
   "outputs": [],
   "source": [
    "#(2)分别用Python 的read_csv()和read_excel()函数读取。\n"
   ]
  },import pandas as pd
DTgrades = pd.read_excel("部分学生的数学和统计学考试成绩.xlsx")
DTgrades1 = DTgrades.to_csv("部分学生的数学和统计学考试成绩.csv")#将.xlsx的文件转化成为.csv的文件储存在根目录下
DTgrades2 = DTgrades.to_csv("部分学生的数学和统计学考试成绩.csv")
  {
   "cell_type": "code",
   "execution_count": null,
   "metadata": {},
   "outputs": [],
   "source": [
    "#(3)用Python方法获取性别、数学和统计学成绩变量，并筛选不同性别学生的成绩。\n"
   ]
  },DTgrades[["性别","数学","统计学"]]
  {
   "cell_type": "code",
   "execution_count": null,
   "metadata": {},
   "outputs": [],
   "source": [
    "#(4)请在电子表格和Python中分别对性别、数学或统计学成绩排序。\n"
   ]
  }
 ],standard = input("请输入你想要根据什么条件将成绩排序（性别/数学/统计学）：")
DTgrades.sort_values(by = standard)
 "metadata": {
  "kernelspec": {
   "display_name": "Python 3",
   "language": "python",
   "name": "python3"
  },
  "language_info": {
   "codemirror_mode": {
    "name": "ipython",
    "version": 3
   },
   "file_extension": ".py",
   "mimetype": "text/x-python",
   "name": "python",
   "nbconvert_exporter": "python",
   "pygments_lexer": "ipython3",
   "version": "3.7.3"
  },
  "toc": {
   "base_numbering": 1,
   "nav_menu": {},
   "number_sections": true,
   "sideBar": true,
   "skip_h1_title": false,
   "title_cell": "Table of Contents",
   "title_sidebar": "Contents",
   "toc_cell": false,
   "toc_position": {},
   "toc_section_display": true,
   "toc_window_display": false
  }
 },
 "nbformat": 4,
 "nbformat_minor": 4
}
